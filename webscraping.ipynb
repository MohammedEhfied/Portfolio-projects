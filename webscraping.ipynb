{
 "cells": [
  {
   "cell_type": "code",
   "execution_count": 1,
   "metadata": {},
   "outputs": [],
   "source": [
    "import requests\n",
    "\n",
    "from bs4 import BeautifulSoup\n",
    "\n",
    "import csv\n",
    "\n",
    "from itertools import zip_longest"
   ]
  },
  {
   "cell_type": "code",
   "execution_count": 2,
   "metadata": {},
   "outputs": [],
   "source": [
    "# scraping Freelancer website\n",
    "\n",
    "url = 'https://www.freelancer.com/jobs/python/'\n",
    "\n",
    "result = requests.get(url)\n",
    "\n",
    "src = result.content\n",
    "\n",
    "soup = BeautifulSoup(src, 'html.parser')"
   ]
  },
  {
   "cell_type": "code",
   "execution_count": 3,
   "metadata": {},
   "outputs": [],
   "source": [
    "jobs_code = soup.find_all('a',{'class':'JobSearchCard-primary-heading-link'})\n",
    "\n",
    "price_code = soup.find_all('div',{'class':'JobSearchCard-secondary-price'})\n",
    "\n",
    "description_code = soup.find_all('p',{'class':'JobSearchCard-primary-description'})\n",
    "\n",
    "skills_code = soup.find_all('a',{'class':'JobSearchCard-primary-tagsLink'})"
   ]
  },
  {
   "cell_type": "code",
   "execution_count": 4,
   "metadata": {},
   "outputs": [],
   "source": [
    "jobs = []\n",
    "price = []\n",
    "description = []\n",
    "skills = []\n",
    "\n",
    "for i in range(len(price_code)):\n",
    "    jobs.append(jobs_code[i].text.strip())\n",
    "    price.append(price_code[i].text.strip())\n",
    "    description.append(description_code[i].text.strip())\n",
    "    skills.append(skills_code[i].text.strip())"
   ]
  },
  {
   "cell_type": "code",
   "execution_count": 5,
   "metadata": {},
   "outputs": [],
   "source": [
    "# creating a csv file and fill it with the lists\n",
    "\n",
    "file_list = [jobs, price, description, skills]\n",
    "exported = zip_longest(*file_list)\n",
    "\n",
    "with open(r'C:\\Users\\lcs\\Downloads\\New folder\\freelancer.csv', 'w') as file:\n",
    "    wr = csv.writer(file)\n",
    "    # writing headers row into the file\n",
    "    wr.writerow(['Job title','Price','Description','Skills'])\n",
    "    wr.writerows(exported)\n",
    "\n"
   ]
  },
  {
   "cell_type": "code",
   "execution_count": 6,
   "metadata": {},
   "outputs": [
    {
     "data": {
      "text/html": [
       "<div>\n",
       "<style scoped>\n",
       "    .dataframe tbody tr th:only-of-type {\n",
       "        vertical-align: middle;\n",
       "    }\n",
       "\n",
       "    .dataframe tbody tr th {\n",
       "        vertical-align: top;\n",
       "    }\n",
       "\n",
       "    .dataframe thead th {\n",
       "        text-align: right;\n",
       "    }\n",
       "</style>\n",
       "<table border=\"1\" class=\"dataframe\">\n",
       "  <thead>\n",
       "    <tr style=\"text-align: right;\">\n",
       "      <th></th>\n",
       "      <th>Job title</th>\n",
       "      <th>Price</th>\n",
       "      <th>Description</th>\n",
       "      <th>Skills</th>\n",
       "    </tr>\n",
       "  </thead>\n",
       "  <tbody>\n",
       "    <tr>\n",
       "      <th>0</th>\n",
       "      <td>Junior Python developer from Pakistan for  Desktop Application ( TKINTER)</td>\n",
       "      <td>$7 / hr\\r\\n                                                                    \\r\\n                                        Avg Bid</td>\n",
       "      <td>I need a new/ Junior Freelancer for one python, Desktop application  ( TKINTER)   from Pakistan freelancer\\r\\nI need work at low budget and for long term\\r\\nI need a hard working and serious person</td>\n",
       "      <td>Python</td>\n",
       "    </tr>\n",
       "    <tr>\n",
       "      <th>1</th>\n",
       "      <td>I need a php curl code snippet to work with instagram graphql</td>\n",
       "      <td>$66\\r\\n                                                                    \\r\\n                                        Avg Bid</td>\n",
       "      <td>Hi\\r\\n\\r\\nIn the recent years instagram has made some major changes in their third party access protocols and one can no longer access instagram resources like search userid by username, find latest posts any longer simply by sending get requests to the IG servers. I need a working code snippet and strategy to curl IG within their latest protocols.</td>\n",
       "      <td>Software Architecture</td>\n",
       "    </tr>\n",
       "    <tr>\n",
       "      <th>2</th>\n",
       "      <td>Help to fix Amazon SP-API App Permissions for GetReportList API Call -- 2</td>\n",
       "      <td>$76\\r\\n                                                                    \\r\\n                                        Avg Bid</td>\n",
       "      <td>I am currently switching from the old MWS API to the new SP API.\\r\\n\\r\\nUnfortunately the app permissions seemed somehow messed up and I can't get GET_AFN_INVENTORY_DATA and GET_FBA_FULFILLMENT_CUSTOMER_SHIPMENT_SALES_DATA Reports although everything seems to be configured correctly.\\r\\n\\r\\nI just need a quick advice what to configure exactly because Amazon is not very clear about this.</td>\n",
       "      <td>Web Scraping</td>\n",
       "    </tr>\n",
       "    <tr>\n",
       "      <th>3</th>\n",
       "      <td>SocialFish</td>\n",
       "      <td>$23\\r\\n                                                                    \\r\\n                                        Avg Bid</td>\n",
       "      <td>explain how this works and help set up for presentation</td>\n",
       "      <td>JavaScript</td>\n",
       "    </tr>\n",
       "    <tr>\n",
       "      <th>4</th>\n",
       "      <td>Program development</td>\n",
       "      <td>$523\\r\\n                                                                    \\r\\n                                        Avg Bid</td>\n",
       "      <td>I have APK and URL which require the user to login via validating stored IMEIs, username, and password and upon validating login credentials it will send an OTP to log in.\\r\\n\\r\\nNow I need the user can access my APK and web from telegram API, and require some automation so that the user can upload a text file to execute the specific action defined in APK/Web</td>\n",
       "      <td>MySQL</td>\n",
       "    </tr>\n",
       "  </tbody>\n",
       "</table>\n",
       "</div>"
      ],
      "text/plain": [
       "                                                                   Job title  \\\n",
       "0  Junior Python developer from Pakistan for  Desktop Application ( TKINTER)   \n",
       "1  I need a php curl code snippet to work with instagram graphql               \n",
       "2  Help to fix Amazon SP-API App Permissions for GetReportList API Call -- 2   \n",
       "3  SocialFish                                                                  \n",
       "4  Program development                                                         \n",
       "\n",
       "                                                                                                                                Price  \\\n",
       "0  $7 / hr\\r\\n                                                                    \\r\\n                                        Avg Bid   \n",
       "1  $66\\r\\n                                                                    \\r\\n                                        Avg Bid       \n",
       "2  $76\\r\\n                                                                    \\r\\n                                        Avg Bid       \n",
       "3  $23\\r\\n                                                                    \\r\\n                                        Avg Bid       \n",
       "4  $523\\r\\n                                                                    \\r\\n                                        Avg Bid      \n",
       "\n",
       "                                                                                                                                                                                                                                                                                                                                                                                             Description  \\\n",
       "0  I need a new/ Junior Freelancer for one python, Desktop application  ( TKINTER)   from Pakistan freelancer\\r\\nI need work at low budget and for long term\\r\\nI need a hard working and serious person                                                                                                                                                                                                   \n",
       "1  Hi\\r\\n\\r\\nIn the recent years instagram has made some major changes in their third party access protocols and one can no longer access instagram resources like search userid by username, find latest posts any longer simply by sending get requests to the IG servers. I need a working code snippet and strategy to curl IG within their latest protocols.                                          \n",
       "2  I am currently switching from the old MWS API to the new SP API.\\r\\n\\r\\nUnfortunately the app permissions seemed somehow messed up and I can't get GET_AFN_INVENTORY_DATA and GET_FBA_FULFILLMENT_CUSTOMER_SHIPMENT_SALES_DATA Reports although everything seems to be configured correctly.\\r\\n\\r\\nI just need a quick advice what to configure exactly because Amazon is not very clear about this.   \n",
       "3  explain how this works and help set up for presentation                                                                                                                                                                                                                                                                                                                                                 \n",
       "4  I have APK and URL which require the user to login via validating stored IMEIs, username, and password and upon validating login credentials it will send an OTP to log in.\\r\\n\\r\\nNow I need the user can access my APK and web from telegram API, and require some automation so that the user can upload a text file to execute the specific action defined in APK/Web                               \n",
       "\n",
       "                  Skills  \n",
       "0  Python                 \n",
       "1  Software Architecture  \n",
       "2  Web Scraping           \n",
       "3  JavaScript             \n",
       "4  MySQL                  "
      ]
     },
     "execution_count": 6,
     "metadata": {},
     "output_type": "execute_result"
    }
   ],
   "source": [
    "# reading the csv file\n",
    "\n",
    "import pandas as pd\n",
    "\n",
    "df = pd.read_csv(r'C:\\Users\\lcs\\Downloads\\New folder\\freelancer.csv')\n",
    "\n",
    "pd.set_option('display.max_colwidth', 0) # maximizing the columns width\n",
    "\n",
    "df"
   ]
  },
  {
   "cell_type": "code",
   "execution_count": 7,
   "metadata": {},
   "outputs": [
    {
     "name": "stdout",
     "output_type": "stream",
     "text": [
      "<class 'pandas.core.frame.DataFrame'>\n",
      "RangeIndex: 49 entries, 0 to 48\n",
      "Data columns (total 4 columns):\n",
      " #   Column       Non-Null Count  Dtype \n",
      "---  ------       --------------  ----- \n",
      " 0   Job title    49 non-null     object\n",
      " 1   Price        49 non-null     object\n",
      " 2   Description  49 non-null     object\n",
      " 3   Skills       49 non-null     object\n",
      "dtypes: object(4)\n",
      "memory usage: 1.7+ KB\n"
     ]
    }
   ],
   "source": [
    "df.info()"
   ]
  },
  {
   "cell_type": "code",
   "execution_count": null,
   "metadata": {},
   "outputs": [],
   "source": []
  }
 ],
 "metadata": {
  "interpreter": {
   "hash": "9add8ba276414301ba460f7d257a2b1ebcd5a94478f8f95bd6d653a0734a7892"
  },
  "kernelspec": {
   "display_name": "Python 3.9.7 ('base')",
   "language": "python",
   "name": "python3"
  },
  "language_info": {
   "codemirror_mode": {
    "name": "ipython",
    "version": 3
   },
   "file_extension": ".py",
   "mimetype": "text/x-python",
   "name": "python",
   "nbconvert_exporter": "python",
   "pygments_lexer": "ipython3",
   "version": "3.9.7"
  },
  "orig_nbformat": 4
 },
 "nbformat": 4,
 "nbformat_minor": 2
}
